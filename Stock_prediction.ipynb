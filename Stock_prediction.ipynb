{
  "cells": [
    {
      "cell_type": "markdown",
      "metadata": {
        "id": "view-in-github",
        "colab_type": "text"
      },
      "source": [
        "<a href=\"https://colab.research.google.com/github/Nikhil3389/Stock_prediction/blob/main/Stock_prediction.ipynb\" target=\"_parent\"><img src=\"https://colab.research.google.com/assets/colab-badge.svg\" alt=\"Open In Colab\"/></a>"
      ]
    },
    {
      "cell_type": "code",
      "execution_count": 18,
      "id": "e5afa078",
      "metadata": {
        "id": "e5afa078"
      },
      "outputs": [],
      "source": [
        "#Importing the Libraries\n",
        "import pandas as pd\n",
        "import numpy as np\n",
        "%matplotlib inline\n",
        "import matplotlib. pyplot as plt\n",
        "import matplotlib\n",
        "import seaborn as sb\n",
        "from sklearn import preprocessing\n",
        "from sklearn.preprocessing import MinMaxScaler\n",
        "from keras.layers import LSTM, Dense, Dropout\n",
        "from sklearn.model_selection import TimeSeriesSplit\n",
        "from sklearn.metrics import mean_squared_error, r2_score\n",
        "import matplotlib.dates as mandates\n",
        "from sklearn.preprocessing import MinMaxScaler\n",
        "from sklearn import linear_model\n",
        "\n",
        "from keras.models import Sequential\n",
        "from keras.layers import Dense\n",
        "import keras.backend as K\n",
        "from keras.callbacks import EarlyStopping\n",
        "from keras.optimizers import adam_v2\n",
        "from keras.models import load_model\n",
        "from keras.layers import LSTM\n",
        "from keras.utils.vis_utils import plot_model\n",
        "import warnings\n",
        "warnings.filterwarnings('ignore')"
      ]
    },
    {
      "cell_type": "code",
      "execution_count": 19,
      "id": "265c66ce",
      "metadata": {
        "id": "265c66ce",
        "outputId": "2dccdd34-c1eb-4bd9-ed37-cc925c48b594",
        "colab": {
          "base_uri": "https://localhost:8080/",
          "height": 237
        }
      },
      "outputs": [
        {
          "output_type": "execute_result",
          "data": {
            "text/plain": [
              "                Open      High       Low     Close  Adj Close      Volume\n",
              "Date                                                                     \n",
              "1986-03-13  0.088542  0.101563  0.088542  0.097222   0.061434  1031788800\n",
              "1986-03-14  0.097222  0.102431  0.097222  0.100694   0.063628   308160000\n",
              "1986-03-17  0.100694  0.103299  0.100694  0.102431   0.064725   133171200\n",
              "1986-03-18  0.102431  0.103299  0.098958  0.099826   0.063079    67766400\n",
              "1986-03-19  0.099826  0.100694  0.097222  0.098090   0.061982    47894400"
            ],
            "text/html": [
              "\n",
              "  <div id=\"df-550d6065-44d6-4fb9-ae6c-673bdd4795e5\">\n",
              "    <div class=\"colab-df-container\">\n",
              "      <div>\n",
              "<style scoped>\n",
              "    .dataframe tbody tr th:only-of-type {\n",
              "        vertical-align: middle;\n",
              "    }\n",
              "\n",
              "    .dataframe tbody tr th {\n",
              "        vertical-align: top;\n",
              "    }\n",
              "\n",
              "    .dataframe thead th {\n",
              "        text-align: right;\n",
              "    }\n",
              "</style>\n",
              "<table border=\"1\" class=\"dataframe\">\n",
              "  <thead>\n",
              "    <tr style=\"text-align: right;\">\n",
              "      <th></th>\n",
              "      <th>Open</th>\n",
              "      <th>High</th>\n",
              "      <th>Low</th>\n",
              "      <th>Close</th>\n",
              "      <th>Adj Close</th>\n",
              "      <th>Volume</th>\n",
              "    </tr>\n",
              "    <tr>\n",
              "      <th>Date</th>\n",
              "      <th></th>\n",
              "      <th></th>\n",
              "      <th></th>\n",
              "      <th></th>\n",
              "      <th></th>\n",
              "      <th></th>\n",
              "    </tr>\n",
              "  </thead>\n",
              "  <tbody>\n",
              "    <tr>\n",
              "      <th>1986-03-13</th>\n",
              "      <td>0.088542</td>\n",
              "      <td>0.101563</td>\n",
              "      <td>0.088542</td>\n",
              "      <td>0.097222</td>\n",
              "      <td>0.061434</td>\n",
              "      <td>1031788800</td>\n",
              "    </tr>\n",
              "    <tr>\n",
              "      <th>1986-03-14</th>\n",
              "      <td>0.097222</td>\n",
              "      <td>0.102431</td>\n",
              "      <td>0.097222</td>\n",
              "      <td>0.100694</td>\n",
              "      <td>0.063628</td>\n",
              "      <td>308160000</td>\n",
              "    </tr>\n",
              "    <tr>\n",
              "      <th>1986-03-17</th>\n",
              "      <td>0.100694</td>\n",
              "      <td>0.103299</td>\n",
              "      <td>0.100694</td>\n",
              "      <td>0.102431</td>\n",
              "      <td>0.064725</td>\n",
              "      <td>133171200</td>\n",
              "    </tr>\n",
              "    <tr>\n",
              "      <th>1986-03-18</th>\n",
              "      <td>0.102431</td>\n",
              "      <td>0.103299</td>\n",
              "      <td>0.098958</td>\n",
              "      <td>0.099826</td>\n",
              "      <td>0.063079</td>\n",
              "      <td>67766400</td>\n",
              "    </tr>\n",
              "    <tr>\n",
              "      <th>1986-03-19</th>\n",
              "      <td>0.099826</td>\n",
              "      <td>0.100694</td>\n",
              "      <td>0.097222</td>\n",
              "      <td>0.098090</td>\n",
              "      <td>0.061982</td>\n",
              "      <td>47894400</td>\n",
              "    </tr>\n",
              "  </tbody>\n",
              "</table>\n",
              "</div>\n",
              "      <button class=\"colab-df-convert\" onclick=\"convertToInteractive('df-550d6065-44d6-4fb9-ae6c-673bdd4795e5')\"\n",
              "              title=\"Convert this dataframe to an interactive table.\"\n",
              "              style=\"display:none;\">\n",
              "        \n",
              "  <svg xmlns=\"http://www.w3.org/2000/svg\" height=\"24px\"viewBox=\"0 0 24 24\"\n",
              "       width=\"24px\">\n",
              "    <path d=\"M0 0h24v24H0V0z\" fill=\"none\"/>\n",
              "    <path d=\"M18.56 5.44l.94 2.06.94-2.06 2.06-.94-2.06-.94-.94-2.06-.94 2.06-2.06.94zm-11 1L8.5 8.5l.94-2.06 2.06-.94-2.06-.94L8.5 2.5l-.94 2.06-2.06.94zm10 10l.94 2.06.94-2.06 2.06-.94-2.06-.94-.94-2.06-.94 2.06-2.06.94z\"/><path d=\"M17.41 7.96l-1.37-1.37c-.4-.4-.92-.59-1.43-.59-.52 0-1.04.2-1.43.59L10.3 9.45l-7.72 7.72c-.78.78-.78 2.05 0 2.83L4 21.41c.39.39.9.59 1.41.59.51 0 1.02-.2 1.41-.59l7.78-7.78 2.81-2.81c.8-.78.8-2.07 0-2.86zM5.41 20L4 18.59l7.72-7.72 1.47 1.35L5.41 20z\"/>\n",
              "  </svg>\n",
              "      </button>\n",
              "      \n",
              "  <style>\n",
              "    .colab-df-container {\n",
              "      display:flex;\n",
              "      flex-wrap:wrap;\n",
              "      gap: 12px;\n",
              "    }\n",
              "\n",
              "    .colab-df-convert {\n",
              "      background-color: #E8F0FE;\n",
              "      border: none;\n",
              "      border-radius: 50%;\n",
              "      cursor: pointer;\n",
              "      display: none;\n",
              "      fill: #1967D2;\n",
              "      height: 32px;\n",
              "      padding: 0 0 0 0;\n",
              "      width: 32px;\n",
              "    }\n",
              "\n",
              "    .colab-df-convert:hover {\n",
              "      background-color: #E2EBFA;\n",
              "      box-shadow: 0px 1px 2px rgba(60, 64, 67, 0.3), 0px 1px 3px 1px rgba(60, 64, 67, 0.15);\n",
              "      fill: #174EA6;\n",
              "    }\n",
              "\n",
              "    [theme=dark] .colab-df-convert {\n",
              "      background-color: #3B4455;\n",
              "      fill: #D2E3FC;\n",
              "    }\n",
              "\n",
              "    [theme=dark] .colab-df-convert:hover {\n",
              "      background-color: #434B5C;\n",
              "      box-shadow: 0px 1px 3px 1px rgba(0, 0, 0, 0.15);\n",
              "      filter: drop-shadow(0px 1px 2px rgba(0, 0, 0, 0.3));\n",
              "      fill: #FFFFFF;\n",
              "    }\n",
              "  </style>\n",
              "\n",
              "      <script>\n",
              "        const buttonEl =\n",
              "          document.querySelector('#df-550d6065-44d6-4fb9-ae6c-673bdd4795e5 button.colab-df-convert');\n",
              "        buttonEl.style.display =\n",
              "          google.colab.kernel.accessAllowed ? 'block' : 'none';\n",
              "\n",
              "        async function convertToInteractive(key) {\n",
              "          const element = document.querySelector('#df-550d6065-44d6-4fb9-ae6c-673bdd4795e5');\n",
              "          const dataTable =\n",
              "            await google.colab.kernel.invokeFunction('convertToInteractive',\n",
              "                                                     [key], {});\n",
              "          if (!dataTable) return;\n",
              "\n",
              "          const docLinkHtml = 'Like what you see? Visit the ' +\n",
              "            '<a target=\"_blank\" href=https://colab.research.google.com/notebooks/data_table.ipynb>data table notebook</a>'\n",
              "            + ' to learn more about interactive tables.';\n",
              "          element.innerHTML = '';\n",
              "          dataTable['output_type'] = 'display_data';\n",
              "          await google.colab.output.renderOutput(dataTable, element);\n",
              "          const docLink = document.createElement('div');\n",
              "          docLink.innerHTML = docLinkHtml;\n",
              "          element.appendChild(docLink);\n",
              "        }\n",
              "      </script>\n",
              "    </div>\n",
              "  </div>\n",
              "  "
            ]
          },
          "metadata": {},
          "execution_count": 19
        }
      ],
      "source": [
        "#Get the Dataset\n",
        "#df=pd.read_csv('MSFT.csv',na_values=['null'],index_col='Date',parse_dates=True,infer_datetime_format=True)\n",
        "df=pd.read_csv('https://raw.githubusercontent.com/AakarshitChaurasia/ML_Stock_Prediction/main/MSFT.csv',na_values=['null'],index_col='Date',parse_dates=True,infer_datetime_format=True)\n",
        "df.head()"
      ]
    },
    {
      "cell_type": "code",
      "source": [
        "df.describe()"
      ],
      "metadata": {
        "colab": {
          "base_uri": "https://localhost:8080/",
          "height": 300
        },
        "id": "epNGBWAaavl7",
        "outputId": "02c5b7ba-162a-46a8-d1ed-a445c23ee45e"
      },
      "id": "epNGBWAaavl7",
      "execution_count": 20,
      "outputs": [
        {
          "output_type": "execute_result",
          "data": {
            "text/plain": [
              "              Open         High          Low        Close    Adj Close  \\\n",
              "count  9083.000000  9083.000000  9083.000000  9083.000000  9083.000000   \n",
              "mean     41.324936    41.760887    40.878488    41.335628    36.256120   \n",
              "std      59.696905    60.272218    59.081728    59.714567    59.981436   \n",
              "min       0.088542     0.092014     0.088542     0.090278     0.057046   \n",
              "25%       4.050781     4.102051     4.027344     4.075195     2.575089   \n",
              "50%      26.820000    27.100000    26.520000    26.840000    18.948530   \n",
              "75%      40.034999    40.443751    39.500000    39.937500    29.244812   \n",
              "max     344.619995   349.670013   342.200012   343.109985   342.402008   \n",
              "\n",
              "             Volume  \n",
              "count  9.083000e+03  \n",
              "mean   5.875055e+07  \n",
              "std    3.845200e+07  \n",
              "min    2.304000e+06  \n",
              "25%    3.461230e+07  \n",
              "50%    5.203200e+07  \n",
              "75%    7.265400e+07  \n",
              "max    1.031789e+09  "
            ],
            "text/html": [
              "\n",
              "  <div id=\"df-a2718c07-2ab4-4341-8db4-1c7be48b537c\">\n",
              "    <div class=\"colab-df-container\">\n",
              "      <div>\n",
              "<style scoped>\n",
              "    .dataframe tbody tr th:only-of-type {\n",
              "        vertical-align: middle;\n",
              "    }\n",
              "\n",
              "    .dataframe tbody tr th {\n",
              "        vertical-align: top;\n",
              "    }\n",
              "\n",
              "    .dataframe thead th {\n",
              "        text-align: right;\n",
              "    }\n",
              "</style>\n",
              "<table border=\"1\" class=\"dataframe\">\n",
              "  <thead>\n",
              "    <tr style=\"text-align: right;\">\n",
              "      <th></th>\n",
              "      <th>Open</th>\n",
              "      <th>High</th>\n",
              "      <th>Low</th>\n",
              "      <th>Close</th>\n",
              "      <th>Adj Close</th>\n",
              "      <th>Volume</th>\n",
              "    </tr>\n",
              "  </thead>\n",
              "  <tbody>\n",
              "    <tr>\n",
              "      <th>count</th>\n",
              "      <td>9083.000000</td>\n",
              "      <td>9083.000000</td>\n",
              "      <td>9083.000000</td>\n",
              "      <td>9083.000000</td>\n",
              "      <td>9083.000000</td>\n",
              "      <td>9.083000e+03</td>\n",
              "    </tr>\n",
              "    <tr>\n",
              "      <th>mean</th>\n",
              "      <td>41.324936</td>\n",
              "      <td>41.760887</td>\n",
              "      <td>40.878488</td>\n",
              "      <td>41.335628</td>\n",
              "      <td>36.256120</td>\n",
              "      <td>5.875055e+07</td>\n",
              "    </tr>\n",
              "    <tr>\n",
              "      <th>std</th>\n",
              "      <td>59.696905</td>\n",
              "      <td>60.272218</td>\n",
              "      <td>59.081728</td>\n",
              "      <td>59.714567</td>\n",
              "      <td>59.981436</td>\n",
              "      <td>3.845200e+07</td>\n",
              "    </tr>\n",
              "    <tr>\n",
              "      <th>min</th>\n",
              "      <td>0.088542</td>\n",
              "      <td>0.092014</td>\n",
              "      <td>0.088542</td>\n",
              "      <td>0.090278</td>\n",
              "      <td>0.057046</td>\n",
              "      <td>2.304000e+06</td>\n",
              "    </tr>\n",
              "    <tr>\n",
              "      <th>25%</th>\n",
              "      <td>4.050781</td>\n",
              "      <td>4.102051</td>\n",
              "      <td>4.027344</td>\n",
              "      <td>4.075195</td>\n",
              "      <td>2.575089</td>\n",
              "      <td>3.461230e+07</td>\n",
              "    </tr>\n",
              "    <tr>\n",
              "      <th>50%</th>\n",
              "      <td>26.820000</td>\n",
              "      <td>27.100000</td>\n",
              "      <td>26.520000</td>\n",
              "      <td>26.840000</td>\n",
              "      <td>18.948530</td>\n",
              "      <td>5.203200e+07</td>\n",
              "    </tr>\n",
              "    <tr>\n",
              "      <th>75%</th>\n",
              "      <td>40.034999</td>\n",
              "      <td>40.443751</td>\n",
              "      <td>39.500000</td>\n",
              "      <td>39.937500</td>\n",
              "      <td>29.244812</td>\n",
              "      <td>7.265400e+07</td>\n",
              "    </tr>\n",
              "    <tr>\n",
              "      <th>max</th>\n",
              "      <td>344.619995</td>\n",
              "      <td>349.670013</td>\n",
              "      <td>342.200012</td>\n",
              "      <td>343.109985</td>\n",
              "      <td>342.402008</td>\n",
              "      <td>1.031789e+09</td>\n",
              "    </tr>\n",
              "  </tbody>\n",
              "</table>\n",
              "</div>\n",
              "      <button class=\"colab-df-convert\" onclick=\"convertToInteractive('df-a2718c07-2ab4-4341-8db4-1c7be48b537c')\"\n",
              "              title=\"Convert this dataframe to an interactive table.\"\n",
              "              style=\"display:none;\">\n",
              "        \n",
              "  <svg xmlns=\"http://www.w3.org/2000/svg\" height=\"24px\"viewBox=\"0 0 24 24\"\n",
              "       width=\"24px\">\n",
              "    <path d=\"M0 0h24v24H0V0z\" fill=\"none\"/>\n",
              "    <path d=\"M18.56 5.44l.94 2.06.94-2.06 2.06-.94-2.06-.94-.94-2.06-.94 2.06-2.06.94zm-11 1L8.5 8.5l.94-2.06 2.06-.94-2.06-.94L8.5 2.5l-.94 2.06-2.06.94zm10 10l.94 2.06.94-2.06 2.06-.94-2.06-.94-.94-2.06-.94 2.06-2.06.94z\"/><path d=\"M17.41 7.96l-1.37-1.37c-.4-.4-.92-.59-1.43-.59-.52 0-1.04.2-1.43.59L10.3 9.45l-7.72 7.72c-.78.78-.78 2.05 0 2.83L4 21.41c.39.39.9.59 1.41.59.51 0 1.02-.2 1.41-.59l7.78-7.78 2.81-2.81c.8-.78.8-2.07 0-2.86zM5.41 20L4 18.59l7.72-7.72 1.47 1.35L5.41 20z\"/>\n",
              "  </svg>\n",
              "      </button>\n",
              "      \n",
              "  <style>\n",
              "    .colab-df-container {\n",
              "      display:flex;\n",
              "      flex-wrap:wrap;\n",
              "      gap: 12px;\n",
              "    }\n",
              "\n",
              "    .colab-df-convert {\n",
              "      background-color: #E8F0FE;\n",
              "      border: none;\n",
              "      border-radius: 50%;\n",
              "      cursor: pointer;\n",
              "      display: none;\n",
              "      fill: #1967D2;\n",
              "      height: 32px;\n",
              "      padding: 0 0 0 0;\n",
              "      width: 32px;\n",
              "    }\n",
              "\n",
              "    .colab-df-convert:hover {\n",
              "      background-color: #E2EBFA;\n",
              "      box-shadow: 0px 1px 2px rgba(60, 64, 67, 0.3), 0px 1px 3px 1px rgba(60, 64, 67, 0.15);\n",
              "      fill: #174EA6;\n",
              "    }\n",
              "\n",
              "    [theme=dark] .colab-df-convert {\n",
              "      background-color: #3B4455;\n",
              "      fill: #D2E3FC;\n",
              "    }\n",
              "\n",
              "    [theme=dark] .colab-df-convert:hover {\n",
              "      background-color: #434B5C;\n",
              "      box-shadow: 0px 1px 3px 1px rgba(0, 0, 0, 0.15);\n",
              "      filter: drop-shadow(0px 1px 2px rgba(0, 0, 0, 0.3));\n",
              "      fill: #FFFFFF;\n",
              "    }\n",
              "  </style>\n",
              "\n",
              "      <script>\n",
              "        const buttonEl =\n",
              "          document.querySelector('#df-a2718c07-2ab4-4341-8db4-1c7be48b537c button.colab-df-convert');\n",
              "        buttonEl.style.display =\n",
              "          google.colab.kernel.accessAllowed ? 'block' : 'none';\n",
              "\n",
              "        async function convertToInteractive(key) {\n",
              "          const element = document.querySelector('#df-a2718c07-2ab4-4341-8db4-1c7be48b537c');\n",
              "          const dataTable =\n",
              "            await google.colab.kernel.invokeFunction('convertToInteractive',\n",
              "                                                     [key], {});\n",
              "          if (!dataTable) return;\n",
              "\n",
              "          const docLinkHtml = 'Like what you see? Visit the ' +\n",
              "            '<a target=\"_blank\" href=https://colab.research.google.com/notebooks/data_table.ipynb>data table notebook</a>'\n",
              "            + ' to learn more about interactive tables.';\n",
              "          element.innerHTML = '';\n",
              "          dataTable['output_type'] = 'display_data';\n",
              "          await google.colab.output.renderOutput(dataTable, element);\n",
              "          const docLink = document.createElement('div');\n",
              "          docLink.innerHTML = docLinkHtml;\n",
              "          element.appendChild(docLink);\n",
              "        }\n",
              "      </script>\n",
              "    </div>\n",
              "  </div>\n",
              "  "
            ]
          },
          "metadata": {},
          "execution_count": 20
        }
      ]
    },
    {
      "cell_type": "code",
      "source": [
        "df.info()"
      ],
      "metadata": {
        "colab": {
          "base_uri": "https://localhost:8080/"
        },
        "id": "LXbEp1-4azZs",
        "outputId": "47a5c981-8087-4759-92d4-51662a3d9cee"
      },
      "id": "LXbEp1-4azZs",
      "execution_count": 21,
      "outputs": [
        {
          "output_type": "stream",
          "name": "stdout",
          "text": [
            "<class 'pandas.core.frame.DataFrame'>\n",
            "DatetimeIndex: 9083 entries, 1986-03-13 to 2022-03-24\n",
            "Data columns (total 6 columns):\n",
            " #   Column     Non-Null Count  Dtype  \n",
            "---  ------     --------------  -----  \n",
            " 0   Open       9083 non-null   float64\n",
            " 1   High       9083 non-null   float64\n",
            " 2   Low        9083 non-null   float64\n",
            " 3   Close      9083 non-null   float64\n",
            " 4   Adj Close  9083 non-null   float64\n",
            " 5   Volume     9083 non-null   int64  \n",
            "dtypes: float64(5), int64(1)\n",
            "memory usage: 496.7 KB\n"
          ]
        }
      ]
    },
    {
      "cell_type": "code",
      "source": [
        "df.isnull().sum()\n",
        "# it will print sum of null in column"
      ],
      "metadata": {
        "colab": {
          "base_uri": "https://localhost:8080/"
        },
        "id": "uVDHOuz5a6IF",
        "outputId": "2a4eb11a-1623-413c-c90c-e6fcc55a5cf8"
      },
      "id": "uVDHOuz5a6IF",
      "execution_count": 22,
      "outputs": [
        {
          "output_type": "execute_result",
          "data": {
            "text/plain": [
              "Open         0\n",
              "High         0\n",
              "Low          0\n",
              "Close        0\n",
              "Adj Close    0\n",
              "Volume       0\n",
              "dtype: int64"
            ]
          },
          "metadata": {},
          "execution_count": 22
        }
      ]
    },
    {
      "cell_type": "code",
      "execution_count": 23,
      "id": "1c0d52d4",
      "metadata": {
        "id": "1c0d52d4",
        "colab": {
          "base_uri": "https://localhost:8080/"
        },
        "outputId": "b9efb03b-203b-473f-e50e-ff78949a5ae6"
      },
      "outputs": [
        {
          "output_type": "stream",
          "name": "stdout",
          "text": [
            "Dataframe Shape:  (9083, 6)\n",
            "Null Value Present:  False\n"
          ]
        }
      ],
      "source": [
        "#Print the shape of Dataframe  and Check for Null Values\n",
        "print('Dataframe Shape: ', df.shape)\n",
        "print('Null Value Present: ', df.isnull().values.any())"
      ]
    },
    {
      "cell_type": "code",
      "execution_count": 24,
      "id": "eb00760a",
      "metadata": {
        "id": "eb00760a",
        "colab": {
          "base_uri": "https://localhost:8080/",
          "height": 286
        },
        "outputId": "057b4224-0cfd-4cec-8fcc-afc3eb08be71"
      },
      "outputs": [
        {
          "output_type": "execute_result",
          "data": {
            "text/plain": [
              "<matplotlib.axes._subplots.AxesSubplot at 0x7f8fe40e8310>"
            ]
          },
          "metadata": {},
          "execution_count": 24
        },
        {
          "output_type": "display_data",
          "data": {
            "text/plain": [
              "<Figure size 432x288 with 1 Axes>"
            ],
            "image/png": "[encoded data removed]"
          },
          "metadata": {
            "needs_background": "light"
          }
        }
      ],
      "source": [
        "#Plot the True Adj Close Value\n",
        "# Y axix is for stock value\n",
        "\n",
        "df['Adj Close'].plot()"
      ]
    },
    {
      "cell_type": "code",
      "source": [
        "plt.figure(figsize=(15,5))\n",
        "plt.plot(df['Close'])\n",
        "plt.title('Microsoft Close price.', fontsize=15)\n",
        "plt.ylabel('Price in dollars.')\n",
        "plt.show()"
      ],
      "metadata": {
        "colab": {
          "base_uri": "https://localhost:8080/",
          "height": 338
        },
        "id": "ATpZ_Td-6kmV",
        "outputId": "88221b66-19cc-4c81-91b7-a6217c8c6064"
      },
      "id": "ATpZ_Td-6kmV",
      "execution_count": 25,
      "outputs": [
        {
          "output_type": "display_data",
          "data": {
            "text/plain": [
              "<Figure size 1080x360 with 1 Axes>"
            ],
            "image/png": "[encoded data removed]"
          },
          "metadata": {
            "needs_background": "light"
          }
        }
      ]
    },
    {
      "cell_type": "code",
      "source": [
        "features = ['Open', 'High', 'Low', 'Close', 'Volume']\n",
        " \n",
        "plt.subplots(figsize=(20,10))\n",
        " \n",
        "for i, col in enumerate(features):\n",
        "  plt.subplot(2,3,i+1)\n",
        "  sb.distplot(df[col])\n",
        "plt.show()"
      ],
      "metadata": {
        "colab": {
          "base_uri": "https://localhost:8080/",
          "height": 606
        },
        "id": "cMzY6lyH62jD",
        "outputId": "cb3b59c3-2a2b-41e6-db0c-9b87f226ea94"
      },
      "id": "cMzY6lyH62jD",
      "execution_count": 26,
      "outputs": [
        {
          "output_type": "display_data",
          "data": {
            "text/plain": [
              "<Figure size 1440x720 with 5 Axes>"
            ],
            "image/png": "[encoded data removed]"
          },
          "metadata": {
            "needs_background": "light"
          }
        }
      ]
    },
    {
      "cell_type": "code",
      "source": [
        "plt.subplots(figsize=(20,10))\n",
        "for i, col in enumerate(features):\n",
        "  plt.subplot(2,3,i+1)\n",
        "  sb.boxplot(df[col])\n",
        "plt.show()"
      ],
      "metadata": {
        "colab": {
          "base_uri": "https://localhost:8080/",
          "height": 606
        },
        "id": "Ntwx8eWS7Op1",
        "outputId": "74a39624-bef9-4478-a518-3486f6ef67a7"
      },
      "id": "Ntwx8eWS7Op1",
      "execution_count": 27,
      "outputs": [
        {
          "output_type": "display_data",
          "data": {
            "text/plain": [
              "<Figure size 1440x720 with 5 Axes>"
            ],
            "image/png": "[encoded data removed]"
          },
          "metadata": {
            "needs_background": "light"
          }
        }
      ]
    },
    {
      "cell_type": "code",
      "execution_count": 28,
      "id": "bc4c0d2d",
      "metadata": {
        "id": "bc4c0d2d"
      },
      "outputs": [],
      "source": [
        "#Set Target Variable\n",
        "output_var = pd.DataFrame(df['Adj Close'])\n",
        "#Selecting the Features\n",
        "features = ['Open', 'High', 'Low', 'Volume']"
      ]
    },
    {
      "cell_type": "code",
      "execution_count": 29,
      "id": "7cc40807",
      "metadata": {
        "id": "7cc40807",
        "colab": {
          "base_uri": "https://localhost:8080/",
          "height": 237
        },
        "outputId": "49806052-5ad5-4d64-8d06-5f5856c6cb67"
      },
      "outputs": [
        {
          "output_type": "execute_result",
          "data": {
            "text/plain": [
              "                Open      High       Low    Volume\n",
              "Date                                              \n",
              "1986-03-13  0.000000  0.000027  0.000000  1.000000\n",
              "1986-03-14  0.000025  0.000030  0.000025  0.297096\n",
              "1986-03-17  0.000035  0.000032  0.000036  0.127119\n",
              "1986-03-18  0.000040  0.000032  0.000030  0.063588\n",
              "1986-03-19  0.000033  0.000025  0.000025  0.044285"
            ],
            "text/html": [
              "\n",
              "  <div id=\"df-139b2ab0-0734-4a18-b219-5a7a79f6504c\">\n",
              "    <div class=\"colab-df-container\">\n",
              "      <div>\n",
              "<style scoped>\n",
              "    .dataframe tbody tr th:only-of-type {\n",
              "        vertical-align: middle;\n",
              "    }\n",
              "\n",
              "    .dataframe tbody tr th {\n",
              "        vertical-align: top;\n",
              "    }\n",
              "\n",
              "    .dataframe thead th {\n",
              "        text-align: right;\n",
              "    }\n",
              "</style>\n",
              "<table border=\"1\" class=\"dataframe\">\n",
              "  <thead>\n",
              "    <tr style=\"text-align: right;\">\n",
              "      <th></th>\n",
              "      <th>Open</th>\n",
              "      <th>High</th>\n",
              "      <th>Low</th>\n",
              "      <th>Volume</th>\n",
              "    </tr>\n",
              "    <tr>\n",
              "      <th>Date</th>\n",
              "      <th></th>\n",
              "      <th></th>\n",
              "      <th></th>\n",
              "      <th></th>\n",
              "    </tr>\n",
              "  </thead>\n",
              "  <tbody>\n",
              "    <tr>\n",
              "      <th>1986-03-13</th>\n",
              "      <td>0.000000</td>\n",
              "      <td>0.000027</td>\n",
              "      <td>0.000000</td>\n",
              "      <td>1.000000</td>\n",
              "    </tr>\n",
              "    <tr>\n",
              "      <th>1986-03-14</th>\n",
              "      <td>0.000025</td>\n",
              "      <td>0.000030</td>\n",
              "      <td>0.000025</td>\n",
              "      <td>0.297096</td>\n",
              "    </tr>\n",
              "    <tr>\n",
              "      <th>1986-03-17</th>\n",
              "      <td>0.000035</td>\n",
              "      <td>0.000032</td>\n",
              "      <td>0.000036</td>\n",
              "      <td>0.127119</td>\n",
              "    </tr>\n",
              "    <tr>\n",
              "      <th>1986-03-18</th>\n",
              "      <td>0.000040</td>\n",
              "      <td>0.000032</td>\n",
              "      <td>0.000030</td>\n",
              "      <td>0.063588</td>\n",
              "    </tr>\n",
              "    <tr>\n",
              "      <th>1986-03-19</th>\n",
              "      <td>0.000033</td>\n",
              "      <td>0.000025</td>\n",
              "      <td>0.000025</td>\n",
              "      <td>0.044285</td>\n",
              "    </tr>\n",
              "  </tbody>\n",
              "</table>\n",
              "</div>\n",
              "      <button class=\"colab-df-convert\" onclick=\"convertToInteractive('df-139b2ab0-0734-4a18-b219-5a7a79f6504c')\"\n",
              "              title=\"Convert this dataframe to an interactive table.\"\n",
              "              style=\"display:none;\">\n",
              "        \n",
              "  <svg xmlns=\"http://www.w3.org/2000/svg\" height=\"24px\"viewBox=\"0 0 24 24\"\n",
              "       width=\"24px\">\n",
              "    <path d=\"M0 0h24v24H0V0z\" fill=\"none\"/>\n",
              "    <path d=\"M18.56 5.44l.94 2.06.94-2.06 2.06-.94-2.06-.94-.94-2.06-.94 2.06-2.06.94zm-11 1L8.5 8.5l.94-2.06 2.06-.94-2.06-.94L8.5 2.5l-.94 2.06-2.06.94zm10 10l.94 2.06.94-2.06 2.06-.94-2.06-.94-.94-2.06-.94 2.06-2.06.94z\"/><path d=\"M17.41 7.96l-1.37-1.37c-.4-.4-.92-.59-1.43-.59-.52 0-1.04.2-1.43.59L10.3 9.45l-7.72 7.72c-.78.78-.78 2.05 0 2.83L4 21.41c.39.39.9.59 1.41.59.51 0 1.02-.2 1.41-.59l7.78-7.78 2.81-2.81c.8-.78.8-2.07 0-2.86zM5.41 20L4 18.59l7.72-7.72 1.47 1.35L5.41 20z\"/>\n",
              "  </svg>\n",
              "      </button>\n",
              "      \n",
              "  <style>\n",
              "    .colab-df-container {\n",
              "      display:flex;\n",
              "      flex-wrap:wrap;\n",
              "      gap: 12px;\n",
              "    }\n",
              "\n",
              "    .colab-df-convert {\n",
              "      background-color: #E8F0FE;\n",
              "      border: none;\n",
              "      border-radius: 50%;\n",
              "      cursor: pointer;\n",
              "      display: none;\n",
              "      fill: #1967D2;\n",
              "      height: 32px;\n",
              "      padding: 0 0 0 0;\n",
              "      width: 32px;\n",
              "    }\n",
              "\n",
              "    .colab-df-convert:hover {\n",
              "      background-color: #E2EBFA;\n",
              "      box-shadow: 0px 1px 2px rgba(60, 64, 67, 0.3), 0px 1px 3px 1px rgba(60, 64, 67, 0.15);\n",
              "      fill: #174EA6;\n",
              "    }\n",
              "\n",
              "    [theme=dark] .colab-df-convert {\n",
              "      background-color: #3B4455;\n",
              "      fill: #D2E3FC;\n",
              "    }\n",
              "\n",
              "    [theme=dark] .colab-df-convert:hover {\n",
              "      background-color: #434B5C;\n",
              "      box-shadow: 0px 1px 3px 1px rgba(0, 0, 0, 0.15);\n",
              "      filter: drop-shadow(0px 1px 2px rgba(0, 0, 0, 0.3));\n",
              "      fill: #FFFFFF;\n",
              "    }\n",
              "  </style>\n",
              "\n",
              "      <script>\n",
              "        const buttonEl =\n",
              "          document.querySelector('#df-139b2ab0-0734-4a18-b219-5a7a79f6504c button.colab-df-convert');\n",
              "        buttonEl.style.display =\n",
              "          google.colab.kernel.accessAllowed ? 'block' : 'none';\n",
              "\n",
              "        async function convertToInteractive(key) {\n",
              "          const element = document.querySelector('#df-139b2ab0-0734-4a18-b219-5a7a79f6504c');\n",
              "          const dataTable =\n",
              "            await google.colab.kernel.invokeFunction('convertToInteractive',\n",
              "                                                     [key], {});\n",
              "          if (!dataTable) return;\n",
              "\n",
              "          const docLinkHtml = 'Like what you see? Visit the ' +\n",
              "            '<a target=\"_blank\" href=https://colab.research.google.com/notebooks/data_table.ipynb>data table notebook</a>'\n",
              "            + ' to learn more about interactive tables.';\n",
              "          element.innerHTML = '';\n",
              "          dataTable['output_type'] = 'display_data';\n",
              "          await google.colab.output.renderOutput(dataTable, element);\n",
              "          const docLink = document.createElement('div');\n",
              "          docLink.innerHTML = docLinkHtml;\n",
              "          element.appendChild(docLink);\n",
              "        }\n",
              "      </script>\n",
              "    </div>\n",
              "  </div>\n",
              "  "
            ]
          },
          "metadata": {},
          "execution_count": 29
        }
      ],
      "source": [
        "#Scaling\n",
        "scaler = MinMaxScaler()\n",
        "feature_transform = scaler.fit_transform(df[features])\n",
        "# print(feature_transform)\n",
        "feature_transform= pd.DataFrame(columns=features, data=feature_transform, index=df.index)\n",
        "feature_transform.head()"
      ]
    },
    {
      "cell_type": "code",
      "execution_count": 30,
      "id": "581f968a",
      "metadata": {
        "id": "581f968a"
      },
      "outputs": [],
      "source": [
        "#Splitting to Training set and Test set\n",
        "timesplit= TimeSeriesSplit(n_splits=20)\n",
        "for train_index, test_index in timesplit.split(feature_transform):\n",
        "        X_train, X_test = feature_transform[:len(train_index)], feature_transform[len(train_index): (len(train_index)+len(test_index))]\n",
        "        y_train, y_test = output_var[:len(train_index)].values.ravel(), output_var[len(train_index): (len(train_index)+len(test_index))].values.ravel()"
      ]
    },
    {
      "cell_type": "code",
      "execution_count": 31,
      "id": "b5e88754",
      "metadata": {
        "id": "b5e88754"
      },
      "outputs": [],
      "source": [
        "#Process the data for LSTM\n",
        "trainX =np.array(X_train)\n",
        "testX =np.array(X_test)\n",
        "X_train = trainX.reshape(X_train.shape[0], 1, X_train.shape[1])\n",
        "X_test = testX.reshape(X_test.shape[0], 1, X_test.shape[1])"
      ]
    },
    {
      "cell_type": "code",
      "execution_count": 32,
      "id": "360721a4",
      "metadata": {
        "id": "360721a4"
      },
      "outputs": [],
      "source": [
        "import pydot\n",
        "import graphviz\n",
        "#You must install pydot (`pip install pydot`) and install graphviz\n",
        "#(see instructions at https://graphviz.gitlab.io/download/) for plot_model/model_to_dot to work."
      ]
    },
    {
      "cell_type": "code",
      "execution_count": 33,
      "id": "23c0225b",
      "metadata": {
        "id": "23c0225b",
        "colab": {
          "base_uri": "https://localhost:8080/",
          "height": 312
        },
        "outputId": "4a557604-8e2d-4038-f76a-6730f7a8e5fe"
      },
      "outputs": [
        {
          "output_type": "execute_result",
          "data": {
            "image/png": "[encoded data removed]",
            "text/plain": [
              "<IPython.core.display.Image object>"
            ]
          },
          "metadata": {},
          "execution_count": 33
        }
      ],
      "source": [
        "#Building the LSTM Model\n",
        "lstm = Sequential()\n",
        "lstm.add(LSTM(64, input_shape=(1, trainX.shape[1]), activation='relu', return_sequences=False))\n",
        "lstm.add(Dense(1))\n",
        "lstm.compile(loss='mean_squared_error', optimizer='adam')\n",
        "plot_model(lstm, show_shapes=True, show_layer_names=True)"
      ]
    },
    {
      "cell_type": "code",
      "source": [],
      "metadata": {
        "id": "bU1sXK2pP_0d"
      },
      "id": "bU1sXK2pP_0d",
      "execution_count": 33,
      "outputs": []
    },
    {
      "cell_type": "markdown",
      "source": [
        "#Model Training\n",
        "history=lstm.fit(X_train, y_train, epochs=100, batch_size=8, verbose=1, shuffle=False)"
      ],
      "metadata": {
        "id": "d279c28b"
      },
      "id": "d279c28b"
    },
    {
      "cell_type": "code",
      "execution_count": 34,
      "id": "5bc52714",
      "metadata": {
        "id": "5bc52714",
        "colab": {
          "base_uri": "https://localhost:8080/"
        },
        "outputId": "c0113518-4761-4709-f7b5-a3af9e532410"
      },
      "outputs": [
        {
          "output_type": "stream",
          "name": "stdout",
          "text": [
            "14/14 [==============================] - 1s 2ms/step\n"
          ]
        }
      ],
      "source": [
        "#LSTM Prediction\n",
        "# mean square error\n",
        "\n",
        "y_pred= lstm.predict(X_test)"
      ]
    },
    {
      "cell_type": "code",
      "execution_count": 35,
      "id": "fe30eb44",
      "metadata": {
        "id": "fe30eb44",
        "colab": {
          "base_uri": "https://localhost:8080/",
          "height": 295
        },
        "outputId": "9ac88b4d-8ca5-43c9-902c-8d6aad17f716"
      },
      "outputs": [
        {
          "output_type": "display_data",
          "data": {
            "text/plain": [
              "<Figure size 432x288 with 1 Axes>"
            ],
            "image/png": "[encoded data removed]"
          },
          "metadata": {
            "needs_background": "light"
          }
        }
      ],
      "source": [
        "#Predicted vs True Adj Close Value – LSTM\n",
        "plt.plot(y_test, label='True Value')\n",
        "plt.plot(y_pred, label='LSTM Value')\n",
        "plt.title('Prediction by LSTM')\n",
        "plt.xlabel('Time Scale')\n",
        "plt.ylabel('Scaled USD')\n",
        "plt.legend()\n",
        "plt.show()"
      ]
    }
  ],
  "metadata": {
    "kernelspec": {
      "display_name": "Python 3 (ipykernel)",
      "language": "python",
      "name": "python3"
    },
    "language_info": {
      "codemirror_mode": {
        "name": "ipython",
        "version": 3
      },
      "file_extension": ".py",
      "mimetype": "text/x-python",
      "name": "python",
      "nbconvert_exporter": "python",
      "pygments_lexer": "ipython3",
      "version": "3.8.13"
    },
    "colab": {
      "provenance": [],
      "include_colab_link": true
    }
  },
  "nbformat": 4,
  "nbformat_minor": 5
}